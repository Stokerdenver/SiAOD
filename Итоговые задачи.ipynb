{
 "cells": [
  {
   "cell_type": "markdown",
   "metadata": {},
   "source": [
    "# Итоговые задачи по дисциплине СиАОД\n",
    "## Выполнил студент группы БСТ1901 Авдонин И.А."
   ]
  },
  {
   "cell_type": "markdown",
   "metadata": {},
   "source": [
    "# Задача 1"
   ]
  },
  {
   "cell_type": "markdown",
   "metadata": {},
   "source": [
    "Даны две строки: s1 и s2 с одинаковым размером, проверьте, может ли\n",
    "некоторая перестановка строки s1 “победить” некоторую перестановку\n",
    "строки s2 или наоборот.\n",
    "Строка x может “победить” строку y (обе имеют размер n), если x[i]> = y\n",
    "[i] (в алфавитном порядке) для всех i от 0 до n-1"
   ]
  },
  {
   "cell_type": "code",
   "execution_count": 1,
   "metadata": {},
   "outputs": [
    {
     "name": "stdout",
     "output_type": "stream",
     "text": [
      "True\n",
      "False\n"
     ]
    }
   ],
   "source": [
    "def pobeda(str1, str2):\n",
    "    sorted1 = ''.join(sorted(str1)); #[1, 2, 3] -> '123'\n",
    "    sorted2 = ''.join(sorted(str2));\n",
    "    firstWon = True; secondWon = True;\n",
    "    \n",
    "    for i in range(0, len(sorted1)):\n",
    "        if not (sorted1[i] >= sorted2[i]):\n",
    "            firstWon = False\n",
    "            break;\n",
    "    \n",
    "    if not firstWon:\n",
    "        for i in range(0, len(sorted2)):\n",
    "            if not(sorted2[i] >= sorted1[i]): #not True = False; not False = True\n",
    "                secondWon = False\n",
    "                break;\n",
    "    else: secondWon = False\n",
    "    \n",
    "    return (firstWon or secondWon)\n",
    "print(pobeda('abc', 'xya'))\n",
    "print(pobeda('abe', 'acd'))"
   ]
  },
  {
   "cell_type": "markdown",
   "metadata": {},
   "source": [
    "# Задача 2"
   ]
  },
  {
   "cell_type": "markdown",
   "metadata": {},
   "source": [
    "Дана строка s, вернуть самую длинную полиндромную подстроку в s."
   ]
  },
  {
   "cell_type": "code",
   "execution_count": 2,
   "metadata": {
    "scrolled": true
   },
   "outputs": [],
   "source": [
    "# Для проверки является ли строка палиндромом\n",
    "def oddPalindrome(s,palArray): #ababa\n",
    "    for i in range(1,len(s)):\n",
    "        left = i-1\n",
    "        right = i+1\n",
    "        palindrome = s[i]\n",
    "        while left>=0 and right<len(s) and s[left]==s[right]:\n",
    "            palindrome = s[left] + palindrome + s[right]\n",
    "            left-=1\n",
    "            right+=1\n",
    "           \n",
    "        palArray.append(palindrome)"
   ]
  },
  {
   "cell_type": "code",
   "execution_count": 3,
   "metadata": {},
   "outputs": [],
   "source": [
    "def evenPalindrome(s,palArray):\n",
    "    for i in range(1, len(s)): #abba\n",
    "        left = i-1\n",
    "        right = i\n",
    "        palindrome = \"\"\n",
    "        while left>=0 and right<len(s) and s[left]==s[right]:\n",
    "            palindrome = s[left] + palindrome + s[right]\n",
    "            left-=1\n",
    "            right+=1\n",
    "            \n",
    "        palArray.append(palindrome)"
   ]
  },
  {
   "cell_type": "code",
   "execution_count": 4,
   "metadata": {},
   "outputs": [
    {
     "name": "stdout",
     "output_type": "stream",
     "text": [
      "bab\n",
      "tenet\n"
     ]
    }
   ],
   "source": [
    "def maxPalindrome(s):\n",
    "    palArray = []\n",
    "    oddPalindrome(s,palArray)\n",
    "    evenPalindrome(s,palArray)\n",
    "    maxPalindrome = max(palArray, key = len)\n",
    "    return maxPalindrome\n",
    "\n",
    "print (maxPalindrome('babad'))\n",
    "print (maxPalindrome('tenet'))"
   ]
  },
  {
   "cell_type": "markdown",
   "metadata": {},
   "source": [
    "# Задача 3"
   ]
  },
  {
   "cell_type": "markdown",
   "metadata": {},
   "source": [
    "Вернуть количество отдельных непустых подстрок текста, которые могут\n",
    "быть записаны как конкатенация некоторой строки с самой собой (т.е. она\n",
    "может быть записана, как a + a, где a - некоторая строка).\n",
    "\n",
    "Пример:\n",
    "\n",
    "Input: text = \"abcabcabc\"\n",
    "Output: 3\n",
    "Объяснение:\n",
    "\n",
    "Получилось 3 подстроки: \"abcabc\", \"bcabca\" and \"cabcab\"."
   ]
  },
  {
   "cell_type": "code",
   "execution_count": 10,
   "metadata": {},
   "outputs": [
    {
     "name": "stdout",
     "output_type": "stream",
     "text": [
      "3\n"
     ]
    }
   ],
   "source": [
    "def empty(text):\n",
    "    length = len(text)\n",
    "    result = []\n",
    "    for i in range(0, length):\n",
    "        for j in range(i + 1, length + 1):\n",
    "            temp = text[i:j]\n",
    "            for i in range(0, len(temp)):\n",
    "                flag = False\n",
    "                if temp[0:i] == temp[i:len(temp)]:\n",
    "                    result.append(temp)\n",
    "                    flag = True\n",
    "                if flag == True: break;              \n",
    "    return len(set(result))\n",
    "print(empty('abcabcabc'))"
   ]
  },
  {
   "cell_type": "markdown",
   "metadata": {},
   "source": [
    "# Задача 4 «Треугольник с максимальным периметром»"
   ]
  },
  {
   "cell_type": "markdown",
   "metadata": {},
   "source": [
    "Массив A состоит из целых положительных чисел длин отрезков. Составьте из трех отрезков такой треугольник, чтобы его периметр был максимально возможным. Если невозможно составить треугольник с положительной площадью функция возвращает 0."
   ]
  },
  {
   "cell_type": "code",
   "execution_count": 6,
   "metadata": {},
   "outputs": [
    {
     "name": "stdout",
     "output_type": "stream",
     "text": [
      "[4, 3, 3, 2]\n",
      "10\n"
     ]
    }
   ],
   "source": [
    "def Perimetr(a, b, c):\n",
    "    if (a+b)>c and (a+c)>b and (b+c)>a: #чек на существование треугольника\n",
    "        return int(a+b+c)\n",
    "    else:\n",
    "        return 0\n",
    "\n",
    "mas=[3,2,3,4] \n",
    "mas=sorted(mas, reverse=True) #сорт + реверс\n",
    "print(mas)\n",
    "flag = False\n",
    "for i in range(len(mas)-2):\n",
    "    if Perimetr(mas[i], mas[i+1], mas[i+2])>0:\n",
    "        print(Perimetr(mas[i], mas[i+1], mas[i+2]))\n",
    "        flag = True\n",
    "        break\n",
    "if not flag:\n",
    "    print(0)"
   ]
  },
  {
   "cell_type": "markdown",
   "metadata": {},
   "source": [
    "# Задача 5 «Сортировка диагоналей в матрице»\n",
    "\n",
    "Дана матрица mat размером m * n, значения целочисленные. Напишите функцию, сортирующую каждую диагональ матрицы по возрастанию и возвращающую получившуюся матрицу."
   ]
  },
  {
   "cell_type": "code",
   "execution_count": 15,
   "metadata": {},
   "outputs": [
    {
     "name": "stdout",
     "output_type": "stream",
     "text": [
      "mat:\n",
      "[3, 3, 1, 1]\n",
      "[2, 2, 1, 2]\n",
      "[1, 1, 1, 2]\n",
      "\n",
      "Sorted: \n",
      "[1, 1, 1, 1]\n",
      "[1, 2, 2, 2]\n",
      "[1, 2, 3, 3]\n",
      "\n",
      "mat:\n",
      "[11, 25, 66, 1, 69, 7]\n",
      "[23, 55, 17, 45, 15, 52]\n",
      "[75, 31, 36, 44, 58, 8]\n",
      "[22, 27, 33, 25, 68, 4]\n",
      "[84, 28, 14, 11, 5, 50]\n",
      "\n",
      "Sorted: \n",
      "[5, 17, 4, 1, 52, 7]\n",
      "[11, 11, 25, 45, 8, 69]\n",
      "[14, 23, 25, 44, 58, 15]\n",
      "[22, 27, 31, 36, 50, 66]\n",
      "[84, 28, 75, 33, 55, 68]\n"
     ]
    }
   ],
   "source": [
    "def sortDiag(mat):\n",
    "    # Размер матрицы\n",
    "    m, n = len(mat), len(mat[0])\n",
    "    \n",
    "    # Пустой массив для диагоналей исходной матрицы\n",
    "    temp = [[] for i in range(m+n-1)] #[[3, 2], [2], [], [1], [1], [3]]\n",
    "\n",
    "        \n",
    "    # Добавляем каждую диагональ в массив temp\n",
    "    for i in range(m):\n",
    "        for j in range(n):\n",
    "            temp[i - j].append(mat[i][j])\n",
    "    \n",
    "    # Сортируем каждую диагональ (т.е линию) массива\n",
    "    for line in temp:\n",
    "        line.sort(reverse = True)\n",
    "    \n",
    "    # \"Линии\" в диагонали матрицы\n",
    "    for i in range(m):\n",
    "        for j in range(n):\n",
    "            # pop() удаляет последний элемент массива и возвращает его\n",
    "            mat[i][j] = temp[i-j].pop()\n",
    "    return mat\n",
    "\n",
    "\n",
    "\n",
    "arr = [[3,3,1,1], [2,2,1,2], [1,1,1,2]]\n",
    "print(\"mat:\")\n",
    "for l in arr:\n",
    "    print(l) \n",
    "print(\"\\nSorted: \")\n",
    "arr = sortDiag(arr)\n",
    "for l in arr:\n",
    "    print(l)\n",
    "arr = [[11, 25, 66, 1, 69, 7], [23, 55, 17, 45, 15, 52], [75, 31, 36, 44, 58, 8], [22, 27, 33, 25, 68, 4], [84, 28, 14, 11, 5, 50]]\n",
    "print(\"\\nmat:\")\n",
    "for l in arr:\n",
    "    print(l)\n",
    "    \n",
    "print(\"\\nSorted: \")\n",
    "arr = sortDiag(arr)\n",
    "for l in arr:\n",
    "    print(l)"
   ]
  },
  {
   "cell_type": "markdown",
   "metadata": {},
   "source": [
    "# Задача 6 \"Максимальное число\"\n",
    "Дан массив неотрицательных целых чисел nums. Расположите их в таком порядке, чтобы\n",
    "вместе они образовали максимально возможное число."
   ]
  },
  {
   "cell_type": "code",
   "execution_count": 11,
   "metadata": {},
   "outputs": [
    {
     "name": "stdout",
     "output_type": "stream",
     "text": [
      "7554502\n"
     ]
    }
   ],
   "source": [
    "nums = [2, 50, 54, 7, 5]\n",
    "max_len = len(str(max(nums)))  # Вычисляем длину максимального элемента -> 54 -> '54'\n",
    "nums = [str(i) for i in nums]  # все элементы массива в строковый тип\n",
    "\n",
    "def change_elem(s):\n",
    "    return s + s[-1] * (max_len - len(s)) # Функция повторяет последнюю цифру, пока число не станет \n",
    "                                          # по длине как самое длинное из списка                              \n",
    "sort_list = sorted(nums, key=change_elem, reverse=True) # Отсортированный массив\n",
    "print(''.join(sort_list))"
   ]
  },
  {
   "cell_type": "markdown",
   "metadata": {},
   "source": [
    "# Задача 7 \"Тридевятое царство\""
   ]
  },
  {
   "cell_type": "code",
   "execution_count": 16,
   "metadata": {},
   "outputs": [
    {
     "name": "stdout",
     "output_type": "stream",
     "text": [
      "Введите кол-во событий в этот день4\n",
      "Введите событие\n",
      " ->Add x\n",
      "Введите событие\n",
      " ->Add y\n",
      "Введите событие\n",
      " ->Vote y\n",
      "Введите событие\n",
      " ->Vote x\n",
      "Yes\n"
     ]
    }
   ],
   "source": [
    "def check(events):\n",
    "    stack = []\n",
    "    for e in events:\n",
    "        cmd, party = e.split()\n",
    "        if cmd == \"Add\":\n",
    "            stack.append(party)\n",
    "        elif cmd == \"Vote\":\n",
    "            if stack.pop() != party:\n",
    "                return \"No\"\n",
    "            \n",
    "    if len(stack) == 0:\n",
    "        return \"Yes\"\n",
    "    else:\n",
    "        return \"No\"\n",
    "\n",
    "K = int(input(\"Введите кол-во событий в этот день\\n ->\"))\n",
    "events = []\n",
    "for i in range(K):\n",
    "    events.append(input('Введите событие\\n ->'))\n",
    "print(check(events))"
   ]
  },
  {
   "cell_type": "markdown",
   "metadata": {},
   "source": [
    "# Задача 8 \"Правильный подмногоугольник\""
   ]
  },
  {
   "cell_type": "markdown",
   "metadata": {},
   "source": [
    "Задан правильный N-угольник. Требуется выбрать наименьшее количество его вершин, которые также образуют правильный многоугольник."
   ]
  },
  {
   "cell_type": "code",
   "execution_count": 31,
   "metadata": {},
   "outputs": [
    {
     "data": {
      "text/plain": [
       "4"
      ]
     },
     "execution_count": 31,
     "metadata": {},
     "output_type": "execute_result"
    }
   ],
   "source": [
    "def subpolygon(N):\n",
    "    for K in range(3, N//2+1):\n",
    "        if N % K == 0: \n",
    "            return K\n",
    "    return N\n",
    "\n",
    "subpolygon(16)"
   ]
  },
  {
   "cell_type": "markdown",
   "metadata": {},
   "source": [
    "# Задача 9 \"Форум\""
   ]
  },
  {
   "cell_type": "code",
   "execution_count": 43,
   "metadata": {},
   "outputs": [
    {
     "data": {
      "text/plain": [
       "(10, 3)"
      ]
     },
     "execution_count": 43,
     "metadata": {},
     "output_type": "execute_result"
    }
   ],
   "source": [
    "def captcha(s):\n",
    "    l = [0,0,0,2,0,2,0,2,3] #обработка для чисел 1-9\n",
    "    if len(s) == 1:\n",
    "        res = l[int(s)-1]\n",
    "        if res:\n",
    "            return 10, res\n",
    "        return -1\n",
    "    S = sum(map(int, s)) #map(int, \"251\") -> [2, 5, 1]\n",
    "    if S == 1: #для случаев s = 10^n\n",
    "        return 10, 2\n",
    "    return S + 1, S #B = S + 1; X = S\n",
    "\n",
    "captcha(\"9\")"
   ]
  },
  {
   "cell_type": "markdown",
   "metadata": {},
   "source": [
    "# Вывод:\n",
    "    В ходе работы были созданы и реализованы алгоритмы для решения 6 задач. "
   ]
  }
 ],
 "metadata": {
  "kernelspec": {
   "display_name": "Python 3",
   "language": "python",
   "name": "python3"
  },
  "language_info": {
   "codemirror_mode": {
    "name": "ipython",
    "version": 3
   },
   "file_extension": ".py",
   "mimetype": "text/x-python",
   "name": "python",
   "nbconvert_exporter": "python",
   "pygments_lexer": "ipython3",
   "version": "3.8.5"
  }
 },
 "nbformat": 4,
 "nbformat_minor": 4
}
